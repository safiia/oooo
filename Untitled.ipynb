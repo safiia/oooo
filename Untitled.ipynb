{
 "cells": [
  {
   "cell_type": "code",
   "execution_count": 1,
   "metadata": {},
   "outputs": [
    {
     "name": "stdout",
     "output_type": "stream",
     "text": [
      "README.md\tdist_train_w_attack.py\tinterpret_utils     weights\r\n",
      "Untitled.ipynb\tfigures\t\t\tl2dist_calc.py\t    weights_analysis.py\r\n",
      "__pycache__\tglobal_vars.py\t\tmalicious_agent.py\r\n",
      "agents.py\tinterpret_figs\t\toutput_files\r\n",
      "data\t\tinterpret_module.py\tutils\r\n"
     ]
    }
   ],
   "source": [
    "!ls"
   ]
  },
  {
   "cell_type": "code",
   "execution_count": 3,
   "metadata": {},
   "outputs": [
    {
     "name": "stdout",
     "output_type": "stream",
     "text": [
      "WARNING:tensorflow:From /home/safiia/snap/jupyter/common/lib/python3.7/site-packages/tensorflow/python/compat/v2_compat.py:107: disable_resource_variables (from tensorflow.python.ops.variable_scope) is deprecated and will be removed in a future version.\n",
      "Instructions for updating:\n",
      "non-resource variables are not supported in the long term\n",
      "Traceback (most recent call last):\n",
      "  File \"dist_train_w_attack.py\", line 262, in <module>\n",
      "    main(args)\n",
      "  File \"dist_train_w_attack.py\", line 199, in main\n",
      "    X_train, Y_train, X_test, Y_test, Y_test_uncat = data_setup()\n",
      "  File \"/home/safiia/ModelPoisoning/utils/io_utils.py\", line 68, in data_setup\n",
      "    X_train, Y_train, X_test, Y_test = data_census()\n",
      "  File \"/home/safiia/ModelPoisoning/utils/census_utils.py\", line 18, in data_census\n",
      "    traindata = traindata_content['traindata']\n",
      "KeyError: 'traindata'\n"
     ]
    }
   ],
   "source": [
    "!python dist_train_w_attack.py --dataset=census --k=10 --C=1.0 --E=5 --T=5 --train --model_num=0 --mal --mal_obj=single --mal_strat=converge --gar=avg"
   ]
  },
  {
   "cell_type": "code",
   "execution_count": 8,
   "metadata": {},
   "outputs": [],
   "source": [
    "!cd data/census/"
   ]
  },
  {
   "cell_type": "code",
   "execution_count": 9,
   "metadata": {},
   "outputs": [
    {
     "name": "stdout",
     "output_type": "stream",
     "text": [
      "/home/safiia/ModelPoisoning\r\n"
     ]
    }
   ],
   "source": [
    "!pwd"
   ]
  },
  {
   "cell_type": "code",
   "execution_count": null,
   "metadata": {},
   "outputs": [],
   "source": []
  }
 ],
 "metadata": {
  "kernelspec": {
   "display_name": "Python 3",
   "language": "python",
   "name": "python3"
  },
  "language_info": {
   "codemirror_mode": {
    "name": "ipython",
    "version": 3
   },
   "file_extension": ".py",
   "mimetype": "text/x-python",
   "name": "python",
   "nbconvert_exporter": "python",
   "pygments_lexer": "ipython3",
   "version": "3.7.3"
  }
 },
 "nbformat": 4,
 "nbformat_minor": 2
}
